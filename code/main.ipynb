{
 "cells": [
  {
   "cell_type": "markdown",
   "metadata": {},
   "source": [
    "# Heart Attack Risk Prediction"
   ]
  },
  {
   "cell_type": "markdown",
   "metadata": {},
   "source": [
    "The dataset includes a wide range of features related to heart health and lifestyles. It covers individual details like age, gender, blood pressures, and BMI and also covers lifestyles choices like smoking, alcohol consumption, and sleep hours per day. The ultimate goal of this dataset and our applications is to predict the heart attack risk of a person. The features included and their respective brief details are following:\n",
    "- Patient ID: Unique identifier for each patient\n",
    "- Age: Age of the patient\n",
    "- Sex: Gender of the patient (Male/Female)\n",
    "- Cholesterol: Cholesterol levels of the patient\n",
    "- Blood Pressure: Blood pressure of the patient (systolic/diastolic)\n",
    "- Heart Rate: Heart rate of the patient\n",
    "- Diabetes: Whether the patient has diabetes (Yes/No)\n",
    "- Family History: Family history of heart-related problems (1: Yes, 0: No)\n",
    "- Smoking: Smoking status of the patient (1: Smoker, 0: Non-smoker)\n",
    "- Obesity: Obesity status of the patient (1: Obese, 0: Not obese)\n",
    "- Alcohol Consumption: Level of alcohol consumption by the patient (None/Light/Moderate/Heavy)\n",
    "- Exercise Hours Per Week: Number of exercise hours per week\n",
    "- Diet: Dietary habits of the patient (Healthy/Average/Unhealthy)\n",
    "- Previous Heart Problems: Previous heart problems of the patient (1: Yes, 0: No)\n",
    "- Medication Use: Medication usage by the patient (1: Yes, 0: No)\n",
    "- Stress Level: Stress level reported by the patient (1-10)\n",
    "- Sedentary Hours Per Day: Hours of sedentary activity per day\n",
    "- Income: Income level of the patient\n",
    "- BMI: Body Mass Index (BMI) of the patient\n",
    "- Triglycerides: Triglyceride levels of the patient\n",
    "- Physical Activity Days Per Week: Days of physical activity per week\n",
    "- Sleep Hours Per Day: Hours of sleep per day\n",
    "- Country: Country of the patient\n",
    "- Continent: Continent where the patient resides\n",
    "- Hemisphere: Hemisphere where the patient resides\n",
    "- Heart Attack Risk: Presence of heart attack risk (1: Yes, 0: No)\n",
    "\n",
    "The dataset is retrieved from https://www.kaggle.com/competitions/heart-attack-risk-analysis/data?select=train.csv"
   ]
  },
  {
   "cell_type": "markdown",
   "metadata": {},
   "source": [
    "## Import libraries"
   ]
  },
  {
   "cell_type": "code",
   "execution_count": 2,
   "metadata": {},
   "outputs": [],
   "source": [
    "import numpy as np\n",
    "import pandas as pd\n",
    "import matplotlib as mpl\n",
    "import matplotlib.pyplot as plt\n",
    "import seaborn as sns"
   ]
  },
  {
   "cell_type": "code",
   "execution_count": 3,
   "metadata": {},
   "outputs": [
    {
     "name": "stdout",
     "output_type": "stream",
     "text": [
      "Numpy Version: 1.26.0\n",
      "Pandas Version: 2.1.1\n",
      "Matplotlib Version: 3.8.0\n",
      "Seaborn Version: 0.13.0\n"
     ]
    }
   ],
   "source": [
    "print(\"Numpy Version:\", np.__version__)\n",
    "print(\"Pandas Version:\", pd.__version__)\n",
    "print(\"Matplotlib Version:\", mpl.__version__)\n",
    "print(\"Seaborn Version:\", sns.__version__)"
   ]
  },
  {
   "cell_type": "markdown",
   "metadata": {},
   "source": [
    "## Import Data"
   ]
  },
  {
   "cell_type": "code",
   "execution_count": 4,
   "metadata": {},
   "outputs": [],
   "source": [
    "# The data is from the competition at https://www.kaggle.com/competitions/heart-attack-risk-analysis/data?select=train.csv\n",
    "\n",
    "data = pd.read_csv('./Dataset/Heart Attack Risk Analysis/train.csv')"
   ]
  },
  {
   "cell_type": "markdown",
   "metadata": {},
   "source": [
    "### Get to know the data"
   ]
  },
  {
   "cell_type": "code",
   "execution_count": 14,
   "metadata": {},
   "outputs": [
    {
     "data": {
      "text/html": [
       "<div>\n",
       "<style scoped>\n",
       "    .dataframe tbody tr th:only-of-type {\n",
       "        vertical-align: middle;\n",
       "    }\n",
       "\n",
       "    .dataframe tbody tr th {\n",
       "        vertical-align: top;\n",
       "    }\n",
       "\n",
       "    .dataframe thead th {\n",
       "        text-align: right;\n",
       "    }\n",
       "</style>\n",
       "<table border=\"1\" class=\"dataframe\">\n",
       "  <thead>\n",
       "    <tr style=\"text-align: right;\">\n",
       "      <th></th>\n",
       "      <th>Patient ID</th>\n",
       "      <th>Age</th>\n",
       "      <th>Sex</th>\n",
       "      <th>Cholesterol</th>\n",
       "      <th>Blood Pressure</th>\n",
       "      <th>Heart Rate</th>\n",
       "      <th>Diabetes</th>\n",
       "      <th>Family History</th>\n",
       "      <th>Smoking</th>\n",
       "      <th>Obesity</th>\n",
       "      <th>...</th>\n",
       "      <th>Sedentary Hours Per Day</th>\n",
       "      <th>Income</th>\n",
       "      <th>BMI</th>\n",
       "      <th>Triglycerides</th>\n",
       "      <th>Physical Activity Days Per Week</th>\n",
       "      <th>Sleep Hours Per Day</th>\n",
       "      <th>Country</th>\n",
       "      <th>Continent</th>\n",
       "      <th>Hemisphere</th>\n",
       "      <th>Heart Attack Risk</th>\n",
       "    </tr>\n",
       "  </thead>\n",
       "  <tbody>\n",
       "    <tr>\n",
       "      <th>0</th>\n",
       "      <td>RDG0550</td>\n",
       "      <td>33</td>\n",
       "      <td>Male</td>\n",
       "      <td>200</td>\n",
       "      <td>129/90</td>\n",
       "      <td>48</td>\n",
       "      <td>0</td>\n",
       "      <td>1</td>\n",
       "      <td>1</td>\n",
       "      <td>1</td>\n",
       "      <td>...</td>\n",
       "      <td>0.138443</td>\n",
       "      <td>184066</td>\n",
       "      <td>30.449815</td>\n",
       "      <td>63</td>\n",
       "      <td>6</td>\n",
       "      <td>7</td>\n",
       "      <td>Argentina</td>\n",
       "      <td>South America</td>\n",
       "      <td>Southern Hemisphere</td>\n",
       "      <td>1</td>\n",
       "    </tr>\n",
       "    <tr>\n",
       "      <th>1</th>\n",
       "      <td>NMA3851</td>\n",
       "      <td>56</td>\n",
       "      <td>Female</td>\n",
       "      <td>262</td>\n",
       "      <td>159/105</td>\n",
       "      <td>46</td>\n",
       "      <td>1</td>\n",
       "      <td>0</td>\n",
       "      <td>1</td>\n",
       "      <td>0</td>\n",
       "      <td>...</td>\n",
       "      <td>0.369552</td>\n",
       "      <td>211755</td>\n",
       "      <td>34.973685</td>\n",
       "      <td>333</td>\n",
       "      <td>7</td>\n",
       "      <td>8</td>\n",
       "      <td>Nigeria</td>\n",
       "      <td>Africa</td>\n",
       "      <td>Northern Hemisphere</td>\n",
       "      <td>1</td>\n",
       "    </tr>\n",
       "    <tr>\n",
       "      <th>2</th>\n",
       "      <td>TUI5807</td>\n",
       "      <td>19</td>\n",
       "      <td>Female</td>\n",
       "      <td>140</td>\n",
       "      <td>161/109</td>\n",
       "      <td>54</td>\n",
       "      <td>0</td>\n",
       "      <td>1</td>\n",
       "      <td>0</td>\n",
       "      <td>0</td>\n",
       "      <td>...</td>\n",
       "      <td>8.646334</td>\n",
       "      <td>252203</td>\n",
       "      <td>30.554246</td>\n",
       "      <td>537</td>\n",
       "      <td>2</td>\n",
       "      <td>10</td>\n",
       "      <td>Thailand</td>\n",
       "      <td>Asia</td>\n",
       "      <td>Northern Hemisphere</td>\n",
       "      <td>0</td>\n",
       "    </tr>\n",
       "    <tr>\n",
       "      <th>3</th>\n",
       "      <td>YYT5016</td>\n",
       "      <td>50</td>\n",
       "      <td>Female</td>\n",
       "      <td>163</td>\n",
       "      <td>120/62</td>\n",
       "      <td>53</td>\n",
       "      <td>0</td>\n",
       "      <td>1</td>\n",
       "      <td>1</td>\n",
       "      <td>1</td>\n",
       "      <td>...</td>\n",
       "      <td>1.107884</td>\n",
       "      <td>121954</td>\n",
       "      <td>35.390265</td>\n",
       "      <td>591</td>\n",
       "      <td>0</td>\n",
       "      <td>9</td>\n",
       "      <td>Spain</td>\n",
       "      <td>Europe</td>\n",
       "      <td>Southern Hemisphere</td>\n",
       "      <td>1</td>\n",
       "    </tr>\n",
       "    <tr>\n",
       "      <th>4</th>\n",
       "      <td>ZAC5937</td>\n",
       "      <td>89</td>\n",
       "      <td>Female</td>\n",
       "      <td>144</td>\n",
       "      <td>153/110</td>\n",
       "      <td>92</td>\n",
       "      <td>1</td>\n",
       "      <td>0</td>\n",
       "      <td>1</td>\n",
       "      <td>0</td>\n",
       "      <td>...</td>\n",
       "      <td>1.337570</td>\n",
       "      <td>180121</td>\n",
       "      <td>39.575483</td>\n",
       "      <td>145</td>\n",
       "      <td>2</td>\n",
       "      <td>5</td>\n",
       "      <td>Germany</td>\n",
       "      <td>Europe</td>\n",
       "      <td>Northern Hemisphere</td>\n",
       "      <td>1</td>\n",
       "    </tr>\n",
       "  </tbody>\n",
       "</table>\n",
       "<p>5 rows × 26 columns</p>\n",
       "</div>"
      ],
      "text/plain": [
       "  Patient ID  Age     Sex  Cholesterol Blood Pressure  Heart Rate  Diabetes  \\\n",
       "0    RDG0550   33    Male          200         129/90          48         0   \n",
       "1    NMA3851   56  Female          262        159/105          46         1   \n",
       "2    TUI5807   19  Female          140        161/109          54         0   \n",
       "3    YYT5016   50  Female          163         120/62          53         0   \n",
       "4    ZAC5937   89  Female          144        153/110          92         1   \n",
       "\n",
       "   Family History  Smoking  Obesity  ...  Sedentary Hours Per Day  Income  \\\n",
       "0               1        1        1  ...                 0.138443  184066   \n",
       "1               0        1        0  ...                 0.369552  211755   \n",
       "2               1        0        0  ...                 8.646334  252203   \n",
       "3               1        1        1  ...                 1.107884  121954   \n",
       "4               0        1        0  ...                 1.337570  180121   \n",
       "\n",
       "         BMI  Triglycerides  Physical Activity Days Per Week  \\\n",
       "0  30.449815             63                                6   \n",
       "1  34.973685            333                                7   \n",
       "2  30.554246            537                                2   \n",
       "3  35.390265            591                                0   \n",
       "4  39.575483            145                                2   \n",
       "\n",
       "   Sleep Hours Per Day    Country      Continent           Hemisphere  \\\n",
       "0                    7  Argentina  South America  Southern Hemisphere   \n",
       "1                    8    Nigeria         Africa  Northern Hemisphere   \n",
       "2                   10   Thailand           Asia  Northern Hemisphere   \n",
       "3                    9      Spain         Europe  Southern Hemisphere   \n",
       "4                    5    Germany         Europe  Northern Hemisphere   \n",
       "\n",
       "   Heart Attack Risk  \n",
       "0                  1  \n",
       "1                  1  \n",
       "2                  0  \n",
       "3                  1  \n",
       "4                  1  \n",
       "\n",
       "[5 rows x 26 columns]"
      ]
     },
     "execution_count": 14,
     "metadata": {},
     "output_type": "execute_result"
    }
   ],
   "source": [
    "data.head()"
   ]
  },
  {
   "cell_type": "code",
   "execution_count": 6,
   "metadata": {},
   "outputs": [
    {
     "data": {
      "text/plain": [
       "(7010, 26)"
      ]
     },
     "execution_count": 6,
     "metadata": {},
     "output_type": "execute_result"
    }
   ],
   "source": [
    "# Data consists of 26 features (label included) and 7010 rows\n",
    "\n",
    "data.shape"
   ]
  },
  {
   "cell_type": "code",
   "execution_count": 7,
   "metadata": {},
   "outputs": [
    {
     "name": "stdout",
     "output_type": "stream",
     "text": [
      "<class 'pandas.core.frame.DataFrame'>\n",
      "RangeIndex: 7010 entries, 0 to 7009\n",
      "Data columns (total 26 columns):\n",
      " #   Column                           Non-Null Count  Dtype  \n",
      "---  ------                           --------------  -----  \n",
      " 0   Patient ID                       7010 non-null   object \n",
      " 1   Age                              7010 non-null   int64  \n",
      " 2   Sex                              7010 non-null   object \n",
      " 3   Cholesterol                      7010 non-null   int64  \n",
      " 4   Blood Pressure                   7010 non-null   object \n",
      " 5   Heart Rate                       7010 non-null   int64  \n",
      " 6   Diabetes                         7010 non-null   int64  \n",
      " 7   Family History                   7010 non-null   int64  \n",
      " 8   Smoking                          7010 non-null   int64  \n",
      " 9   Obesity                          7010 non-null   int64  \n",
      " 10  Alcohol Consumption              7010 non-null   int64  \n",
      " 11  Exercise Hours Per Week          7010 non-null   float64\n",
      " 12  Diet                             7010 non-null   object \n",
      " 13  Previous Heart Problems          7010 non-null   int64  \n",
      " 14  Medication Use                   7010 non-null   int64  \n",
      " 15  Stress Level                     7010 non-null   int64  \n",
      " 16  Sedentary Hours Per Day          7010 non-null   float64\n",
      " 17  Income                           7010 non-null   int64  \n",
      " 18  BMI                              7010 non-null   float64\n",
      " 19  Triglycerides                    7010 non-null   int64  \n",
      " 20  Physical Activity Days Per Week  7010 non-null   int64  \n",
      " 21  Sleep Hours Per Day              7010 non-null   int64  \n",
      " 22  Country                          7010 non-null   object \n",
      " 23  Continent                        7010 non-null   object \n",
      " 24  Hemisphere                       7010 non-null   object \n",
      " 25  Heart Attack Risk                7010 non-null   int64  \n",
      "dtypes: float64(3), int64(16), object(7)\n",
      "memory usage: 1.4+ MB\n"
     ]
    }
   ],
   "source": [
    "data.info()"
   ]
  },
  {
   "cell_type": "code",
   "execution_count": 8,
   "metadata": {},
   "outputs": [
    {
     "data": {
      "text/plain": [
       "0"
      ]
     },
     "execution_count": 8,
     "metadata": {},
     "output_type": "execute_result"
    }
   ],
   "source": [
    "# There is no nan in data\n",
    "\n",
    "data.isna().sum().sum()"
   ]
  },
  {
   "cell_type": "markdown",
   "metadata": {},
   "source": [
    "#### The number of unique value in each column"
   ]
  },
  {
   "cell_type": "code",
   "execution_count": 18,
   "metadata": {},
   "outputs": [
    {
     "name": "stdout",
     "output_type": "stream",
     "text": [
      "Unique values in each column \n",
      "==================================================\n",
      "Patient ID: 7010\n",
      "Age: 73\n",
      "Sex: 2\n",
      "Cholesterol: 281\n",
      "Blood Pressure: 3590\n",
      "Heart Rate: 71\n",
      "Diabetes: 2\n",
      "Family History: 2\n",
      "Smoking: 2\n",
      "Obesity: 2\n",
      "Alcohol Consumption: 2\n",
      "Exercise Hours Per Week: 7010\n",
      "Diet: 3\n",
      "Previous Heart Problems: 2\n",
      "Medication Use: 2\n",
      "Stress Level: 10\n",
      "Sedentary Hours Per Day: 7010\n",
      "Income: 6921\n",
      "BMI: 7010\n",
      "Triglycerides: 771\n",
      "Physical Activity Days Per Week: 8\n",
      "Sleep Hours Per Day: 7\n",
      "Country: 20\n",
      "Continent: 6\n",
      "Hemisphere: 2\n",
      "Heart Attack Risk: 2\n"
     ]
    }
   ],
   "source": [
    "print(f'Unique values in each column \\n{\"=\"*50}')\n",
    "\n",
    "for c in data.columns:\n",
    "    print(f'{c}: {data[c].unique().shape[0]}')"
   ]
  },
  {
   "cell_type": "code",
   "execution_count": null,
   "metadata": {},
   "outputs": [],
   "source": []
  }
 ],
 "metadata": {
  "kernelspec": {
   "display_name": "Python 3",
   "language": "python",
   "name": "python3"
  },
  "language_info": {
   "codemirror_mode": {
    "name": "ipython",
    "version": 3
   },
   "file_extension": ".py",
   "mimetype": "text/x-python",
   "name": "python",
   "nbconvert_exporter": "python",
   "pygments_lexer": "ipython3",
   "version": "3.11.5"
  }
 },
 "nbformat": 4,
 "nbformat_minor": 2
}
