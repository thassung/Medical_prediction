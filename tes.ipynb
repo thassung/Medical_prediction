{
 "cells": [
  {
   "cell_type": "code",
   "execution_count": 3,
   "metadata": {},
   "outputs": [
    {
     "name": "stdout",
     "output_type": "stream",
     "text": [
      "Fungal infection\n",
      "itching                                                               108\n",
      "skin_rash                                                             108\n",
      "nodal_skin_eruptions                                                  108\n",
      "continuous_sneezing                                                     0\n",
      "shivering                                                               0\n",
      "                                              ...                        \n",
      "blister                                                                 0\n",
      "red_sore_around_nose                                                    0\n",
      "yellow_crust_ooze                                                       0\n",
      "prognosis               Fungal infectionFungal infectionFungal infecti...\n",
      "Unnamed: 133                                                          0.0\n",
      "Length: 134, dtype: object\n"
     ]
    }
   ],
   "source": [
    "import pandas as pd\n",
    "\n",
    "df = pd.read_csv('./code/data/Training.csv')\n",
    "common_symptoms={}\n",
    "\n",
    "for disease in df['prognosis'].unique():\n",
    "        disease_df = df[df['prognosis'] == disease]\n",
    "        symptom_counts = disease_df.sum(axis=0)\n",
    "        print(disease)\n",
    "        print(symptom_counts)\n",
    "        common_symptoms[disease] = set(symptom_counts[symptom_counts.values > len(disease_df) * 0.5].index)\n"
   ]
  },
  {
   "cell_type": "code",
   "execution_count": 8,
   "metadata": {},
   "outputs": [
    {
     "data": {
      "text/plain": [
       "array([108, 108, 108, 0, 0, 0, 0, 0, 0, 0, 0, 0, 0, 0, 0, 0, 0, 0, 0, 0,\n",
       "       0, 0, 0, 0, 0, 0, 0, 0, 0, 0, 0, 0, 0, 0, 0, 0, 0, 0, 0, 0, 0, 0,\n",
       "       0, 0, 0, 0, 0, 0, 0, 0, 0, 0, 0, 0, 0, 0, 0, 0, 0, 0, 0, 0, 0, 0,\n",
       "       0, 0, 0, 0, 0, 0, 0, 0, 0, 0, 0, 0, 0, 0, 0, 0, 0, 0, 0, 0, 0, 0,\n",
       "       0, 0, 0, 0, 0, 0, 0, 0, 0, 0, 0, 0, 0, 0, 0, 0, 108, 0, 0, 0, 0, 0,\n",
       "       0, 0, 0, 0, 0, 0, 0, 0, 0, 0, 0, 0, 0, 0, 0, 0, 0, 0, 0, 0, 0, 0,\n",
       "       0, 0,\n",
       "       'Fungal infectionFungal infectionFungal infectionFungal infectionFungal infectionFungal infectionFungal infectionFungal infectionFungal infectionFungal infectionFungal infectionFungal infectionFungal infectionFungal infectionFungal infectionFungal infectionFungal infectionFungal infectionFungal infectionFungal infectionFungal infectionFungal infectionFungal infectionFungal infectionFungal infectionFungal infectionFungal infectionFungal infectionFungal infectionFungal infectionFungal infectionFungal infectionFungal infectionFungal infectionFungal infectionFungal infectionFungal infectionFungal infectionFungal infectionFungal infectionFungal infectionFungal infectionFungal infectionFungal infectionFungal infectionFungal infectionFungal infectionFungal infectionFungal infectionFungal infectionFungal infectionFungal infectionFungal infectionFungal infectionFungal infectionFungal infectionFungal infectionFungal infectionFungal infectionFungal infectionFungal infectionFungal infectionFungal infectionFungal infectionFungal infectionFungal infectionFungal infectionFungal infectionFungal infectionFungal infectionFungal infectionFungal infectionFungal infectionFungal infectionFungal infectionFungal infectionFungal infectionFungal infectionFungal infectionFungal infectionFungal infectionFungal infectionFungal infectionFungal infectionFungal infectionFungal infectionFungal infectionFungal infectionFungal infectionFungal infectionFungal infectionFungal infectionFungal infectionFungal infectionFungal infectionFungal infectionFungal infectionFungal infectionFungal infectionFungal infectionFungal infectionFungal infectionFungal infectionFungal infectionFungal infectionFungal infectionFungal infectionFungal infectionFungal infectionFungal infectionFungal infectionFungal infectionFungal infectionFungal infectionFungal infectionFungal infectionFungal infectionFungal infectionFungal infectionFungal infection',\n",
       "       0.0], dtype=object)"
      ]
     },
     "execution_count": 8,
     "metadata": {},
     "output_type": "execute_result"
    }
   ],
   "source": [
    "symptom_counts.values"
   ]
  },
  {
   "cell_type": "code",
   "execution_count": 10,
   "metadata": {},
   "outputs": [
    {
     "data": {
      "text/plain": [
       "60.0"
      ]
     },
     "execution_count": 10,
     "metadata": {},
     "output_type": "execute_result"
    }
   ],
   "source": [
    "len(disease_df) * 0.5"
   ]
  },
  {
   "cell_type": "code",
   "execution_count": null,
   "metadata": {},
   "outputs": [],
   "source": []
  }
 ],
 "metadata": {
  "kernelspec": {
   "display_name": "Python 3",
   "language": "python",
   "name": "python3"
  },
  "language_info": {
   "codemirror_mode": {
    "name": "ipython",
    "version": 3
   },
   "file_extension": ".py",
   "mimetype": "text/x-python",
   "name": "python",
   "nbconvert_exporter": "python",
   "pygments_lexer": "ipython3",
   "version": "3.11.5"
  }
 },
 "nbformat": 4,
 "nbformat_minor": 2
}
